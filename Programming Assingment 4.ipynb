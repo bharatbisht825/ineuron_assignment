{
 "cells": [
  {
   "cell_type": "markdown",
   "id": "e7a0fe7b",
   "metadata": {},
   "source": [
    " # Write a Python Program to Find the Factorial of a Number?\n"
   ]
  },
  {
   "cell_type": "code",
   "execution_count": 58,
   "id": "81d760ae",
   "metadata": {},
   "outputs": [
    {
     "name": "stdout",
     "output_type": "stream",
     "text": [
      "Enter the number 6\n",
      "The factorial is 720\n"
     ]
    }
   ],
   "source": [
    "i=int(input(\"Enter the number \"))\n",
    "fac=1\n",
    "while(i>0):\n",
    "    fac=fac*i\n",
    "    i=i-1\n",
    "print(f\"The factorial is {fac}\")    \n",
    "    \n",
    "    "
   ]
  },
  {
   "cell_type": "markdown",
   "id": "98f13723",
   "metadata": {},
   "source": [
    "# Write a Python Program to Display the multiplication Table?\n"
   ]
  },
  {
   "cell_type": "code",
   "execution_count": 64,
   "id": "371a5cd0",
   "metadata": {},
   "outputs": [
    {
     "name": "stdout",
     "output_type": "stream",
     "text": [
      "Enter the number5\n",
      "5 * 1 = 5\n",
      "5 * 2 = 10\n",
      "5 * 3 = 15\n",
      "5 * 4 = 20\n",
      "5 * 5 = 25\n",
      "5 * 6 = 30\n",
      "5 * 7 = 35\n",
      "5 * 8 = 40\n",
      "5 * 9 = 45\n",
      "5 * 10 = 50\n"
     ]
    }
   ],
   "source": [
    "i=int(input(\"Enter the number\"))\n",
    "for j in range(1,11):\n",
    "    print(f\"{i} * {j} = {i*j}\")"
   ]
  },
  {
   "cell_type": "markdown",
   "id": "4acd693a",
   "metadata": {},
   "source": [
    "# Write a Python Program to Print the Fibonacci sequence?\n"
   ]
  },
  {
   "cell_type": "code",
   "execution_count": 11,
   "id": "3cf5c684",
   "metadata": {},
   "outputs": [
    {
     "name": "stdout",
     "output_type": "stream",
     "text": [
      "Enter total number of output 6\n",
      "0\n",
      "1\n",
      "1\n",
      "2\n",
      "3\n",
      "5\n"
     ]
    }
   ],
   "source": [
    "n=int(input(\"Enter total number of output \"))\n",
    "a=0\n",
    "b=1\n",
    "for k in range(n):\n",
    "    print(a)\n",
    "    a,b=b,a+b"
   ]
  },
  {
   "cell_type": "markdown",
   "id": "d0f76647",
   "metadata": {},
   "source": [
    "# Write a Python Program to Check Armstrong Number?\n"
   ]
  },
  {
   "cell_type": "code",
   "execution_count": 59,
   "id": "f49f7d9b",
   "metadata": {},
   "outputs": [
    {
     "name": "stdout",
     "output_type": "stream",
     "text": [
      "Enter the number 1\n",
      "It is an armstrong Number\n"
     ]
    }
   ],
   "source": [
    "i=int(input(\"Enter the number \"))\n",
    "sumn=0\n",
    "order=len(str(i))\n",
    "copy_n=i\n",
    "while(i>0):\n",
    "    digit=i%10\n",
    "    sumn+=digit**order\n",
    "    i=i//10\n",
    "if(sumn==copy_n):\n",
    "    print(\"It is an armstrong Number\")\n",
    "    \n"
   ]
  },
  {
   "cell_type": "markdown",
   "id": "46447442",
   "metadata": {},
   "source": [
    "# Write a Python Program to Find Armstrong Number in an Interval?\n"
   ]
  },
  {
   "cell_type": "code",
   "execution_count": 60,
   "id": "54486fb6",
   "metadata": {},
   "outputs": [
    {
     "name": "stdout",
     "output_type": "stream",
     "text": [
      "Enter the starting range 1\n",
      "Enter the ending range 100\n",
      "The armstrong numbers are [1, 2, 3, 4, 5, 6, 7, 8, 9]\n"
     ]
    }
   ],
   "source": [
    "start=int(input(\"Enter the starting range \"))\n",
    "end=int(input(\"Enter the ending range \"))\n",
    "a=[]\n",
    "for i in range(start,end):\n",
    "    sumn=0\n",
    "    order=len(str(i))\n",
    "    copy_n=i\n",
    "    while(i>0):\n",
    "        digit=i%10\n",
    "        sumn+=digit**order\n",
    "        i=i//10\n",
    "    if(sumn==copy_n):\n",
    "        a.append(sumn)\n",
    "    \n",
    "if(len(a)>0):\n",
    "    print(f\"The armstrong numbers are {a}\")\n",
    "elif(len(a)==0):\n",
    "    print(\"No armstrong number in this interval\")"
   ]
  },
  {
   "cell_type": "markdown",
   "id": "60b4e223",
   "metadata": {},
   "source": [
    "# Write a Python Program to Find the Sum of Natural Numbers?\n"
   ]
  },
  {
   "cell_type": "code",
   "execution_count": 71,
   "id": "13822732",
   "metadata": {},
   "outputs": [
    {
     "name": "stdout",
     "output_type": "stream",
     "text": [
      "Enter the starting point 5\n",
      "Enter the ending point 15\n",
      "The sum is 110\n"
     ]
    }
   ],
   "source": [
    "start=int(input(\"Enter the starting point \"))\n",
    "end=int(input(\"Enter the ending point \"))\n",
    "s=0\n",
    "for i in range (start,end+1):\n",
    "        s=s+i\n",
    "print(f\"The sum is {s}\")        \n",
    "    "
   ]
  }
 ],
 "metadata": {
  "kernelspec": {
   "display_name": "Python 3 (ipykernel)",
   "language": "python",
   "name": "python3"
  },
  "language_info": {
   "codemirror_mode": {
    "name": "ipython",
    "version": 3
   },
   "file_extension": ".py",
   "mimetype": "text/x-python",
   "name": "python",
   "nbconvert_exporter": "python",
   "pygments_lexer": "ipython3",
   "version": "3.9.12"
  }
 },
 "nbformat": 4,
 "nbformat_minor": 5
}
