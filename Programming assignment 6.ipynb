{
 "cells": [
  {
   "cell_type": "markdown",
   "id": "b1f8dd48",
   "metadata": {},
   "source": [
    "# Write a Python Program to Display Fibonacci Sequence Using Recursion?\n"
   ]
  },
  {
   "cell_type": "code",
   "execution_count": 18,
   "id": "cadc38b4",
   "metadata": {},
   "outputs": [
    {
     "name": "stdout",
     "output_type": "stream",
     "text": [
      "enter the range5\n",
      "the sequence is\n",
      "0\n",
      "1\n",
      "1\n",
      "2\n",
      "3\n"
     ]
    }
   ],
   "source": [
    "def fib(n):\n",
    "    if (n<=1):\n",
    "        return n\n",
    "    else:\n",
    "        return (fib(n-1)+fib(n-2))\n",
    "n=int(input(\"enter the range\"))\n",
    "print(f\"the sequence is\" )\n",
    "for i in range(n):\n",
    "    print(fib(i))"
   ]
  },
  {
   "cell_type": "markdown",
   "id": "7c211190",
   "metadata": {},
   "source": [
    "# Write a Python Program to Find Factorial of Number Using Recursion?"
   ]
  },
  {
   "cell_type": "code",
   "execution_count": 5,
   "id": "2086268a",
   "metadata": {},
   "outputs": [
    {
     "name": "stdout",
     "output_type": "stream",
     "text": [
      "enter the number 5\n",
      "the factorial is  120\n"
     ]
    }
   ],
   "source": [
    "n=int(input(\"enter the number \"))\n",
    "def fac2(n):\n",
    "    if n<=0:\n",
    "        return 1\n",
    "    else:\n",
    "        return n*fac2(n-1)\n",
    "print(\"the factorial is \" , fac2(n))"
   ]
  },
  {
   "cell_type": "markdown",
   "id": "c8634698",
   "metadata": {},
   "source": [
    "# Write a Python Program to calculate your Body Mass Index?\n"
   ]
  },
  {
   "cell_type": "code",
   "execution_count": 9,
   "id": "ab125430",
   "metadata": {},
   "outputs": [
    {
     "name": "stdout",
     "output_type": "stream",
     "text": [
      "enter the height in centimeter 182\n",
      "enter the weight in kg 70\n",
      "bmi is  21.132713440405748\n"
     ]
    }
   ],
   "source": [
    "h=(int(input(\"enter the height in centimeter \"))/100)\n",
    "w=int(input(\"enter the weight in kg \"))\n",
    "print(f\"bmi is  {w/(h*h)}\")\n"
   ]
  },
  {
   "cell_type": "markdown",
   "id": "508aa048",
   "metadata": {},
   "source": [
    "# Write a Python Program to calculate the natural logarithm of any number?\n"
   ]
  },
  {
   "cell_type": "code",
   "execution_count": 4,
   "id": "93c3c7e1",
   "metadata": {},
   "outputs": [
    {
     "name": "stdout",
     "output_type": "stream",
     "text": [
      "enter the number 5\n",
      "the log is 1.6094379124341003\n"
     ]
    }
   ],
   "source": [
    "import math\n",
    "n=int(input(\"enter the number \"))\n",
    "\n",
    "print(\"the log is\", math.log(n))"
   ]
  },
  {
   "cell_type": "markdown",
   "id": "de8bd22c",
   "metadata": {},
   "source": [
    "# Write a Python Program for cube sum of first n natural numbers?"
   ]
  },
  {
   "cell_type": "code",
   "execution_count": 3,
   "id": "795a28f3",
   "metadata": {},
   "outputs": [
    {
     "name": "stdout",
     "output_type": "stream",
     "text": [
      "enter the number 5\n",
      "the cube sum is  225\n"
     ]
    }
   ],
   "source": [
    "n=int(input(\"enter the number \"))\n",
    "cube_sum=0\n",
    "while(n>0):\n",
    "    cube_sum=cube_sum+n*n*n\n",
    "    n=n-1\n",
    "print(\"the cube sum is \" ,cube_sum)"
   ]
  }
 ],
 "metadata": {
  "kernelspec": {
   "display_name": "Python 3 (ipykernel)",
   "language": "python",
   "name": "python3"
  },
  "language_info": {
   "codemirror_mode": {
    "name": "ipython",
    "version": 3
   },
   "file_extension": ".py",
   "mimetype": "text/x-python",
   "name": "python",
   "nbconvert_exporter": "python",
   "pygments_lexer": "ipython3",
   "version": "3.9.12"
  }
 },
 "nbformat": 4,
 "nbformat_minor": 5
}
