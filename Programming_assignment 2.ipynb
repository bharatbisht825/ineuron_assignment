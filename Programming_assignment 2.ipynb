{
 "cells": [
  {
   "cell_type": "markdown",
   "id": "695a13f4",
   "metadata": {},
   "source": [
    "# Write a Python program to convert kilometers to miles?"
   ]
  },
  {
   "cell_type": "code",
   "execution_count": 2,
   "id": "0c7e0262",
   "metadata": {},
   "outputs": [
    {
     "name": "stdout",
     "output_type": "stream",
     "text": [
      "Enter the Kilometer distance56\n",
      "56.0 KM in miles is 34.72\n"
     ]
    }
   ],
   "source": [
    "# 1 KM = 0.62 Miles\n",
    "KM = float(input(\"Enter the Kilometer distance\"))\n",
    "M=0.62*KM\n",
    "print(f\"{KM} KM in miles is {M}\")"
   ]
  },
  {
   "cell_type": "markdown",
   "id": "2c39c975",
   "metadata": {},
   "source": [
    "# Write a Python program to convert Celsius to Fahrenheit?"
   ]
  },
  {
   "cell_type": "code",
   "execution_count": 6,
   "id": "50220da2",
   "metadata": {},
   "outputs": [
    {
     "name": "stdout",
     "output_type": "stream",
     "text": [
      "enter the value in celsius1\n",
      "1.0 celsius in fahrenheit is 33.8\n"
     ]
    }
   ],
   "source": [
    "# formula= (C/(9/5)+32)\n",
    "\n",
    "c=float(input(\"enter the value in celsius\"))\n",
    "f=(c*(9/5)+32)\n",
    "print(f\"{c} celsius in fahrenheit is {f}\")"
   ]
  },
  {
   "cell_type": "markdown",
   "id": "79e00090",
   "metadata": {},
   "source": [
    "# Write a Python program to display calendar?\n"
   ]
  },
  {
   "cell_type": "code",
   "execution_count": 11,
   "id": "492b5db0",
   "metadata": {},
   "outputs": [],
   "source": [
    "import calendar\n",
    "yy=2022\n",
    "mm=11"
   ]
  },
  {
   "cell_type": "code",
   "execution_count": 12,
   "id": "0745aaea",
   "metadata": {},
   "outputs": [
    {
     "name": "stdout",
     "output_type": "stream",
     "text": [
      "   November 2022\n",
      "Mo Tu We Th Fr Sa Su\n",
      "    1  2  3  4  5  6\n",
      " 7  8  9 10 11 12 13\n",
      "14 15 16 17 18 19 20\n",
      "21 22 23 24 25 26 27\n",
      "28 29 30\n",
      "\n"
     ]
    }
   ],
   "source": [
    "print(calendar.month(yy,mm))"
   ]
  },
  {
   "cell_type": "markdown",
   "id": "8f62f225",
   "metadata": {},
   "source": [
    "# Write a Python program to solve quadratic equation?\n"
   ]
  },
  {
   "cell_type": "code",
   "execution_count": 1,
   "id": "3777aa1d",
   "metadata": {},
   "outputs": [],
   "source": [
    "import cmath\n"
   ]
  },
  {
   "cell_type": "code",
   "execution_count": 22,
   "id": "ac5a7238",
   "metadata": {},
   "outputs": [
    {
     "name": "stdout",
     "output_type": "stream",
     "text": [
      "enter x component1\n",
      "enter y component5\n",
      "enter constant6\n",
      "solutions are (-3+0j) and (-2+0j)\n"
     ]
    }
   ],
   "source": [
    "a=int(input(\"enter x component\"))\n",
    "b=int(input(\"enter y component\"))\n",
    "c=int(input(\"enter constant\"))\n",
    "de=(b ** 2) - (4 * a * c)\n",
    "first=negative_value(a,b,c)\n",
    "second=positive_value(a,b,c)\n",
    "print(f\"solutions are {first} and {second}\")"
   ]
  },
  {
   "cell_type": "code",
   "execution_count": 20,
   "id": "59b431b7",
   "metadata": {},
   "outputs": [],
   "source": [
    "def negative_value(a,b,c):\n",
    "    sol = (-b-cmath.sqrt(de))/(2*a)\n",
    "    return sol\n",
    "         \n"
   ]
  },
  {
   "cell_type": "code",
   "execution_count": 21,
   "id": "e123b6b3",
   "metadata": {},
   "outputs": [],
   "source": [
    "def positive_value(a,b,c):\n",
    "    sol2 = (-b+cmath.sqrt(de))/(2*a)\n",
    "    return sol2"
   ]
  },
  {
   "cell_type": "markdown",
   "id": "ff07fdc1",
   "metadata": {},
   "source": [
    "# Write a Python program to swap two variables without temp variable?"
   ]
  },
  {
   "cell_type": "code",
   "execution_count": 23,
   "id": "69aabe58",
   "metadata": {},
   "outputs": [
    {
     "name": "stdout",
     "output_type": "stream",
     "text": [
      "5 10\n"
     ]
    }
   ],
   "source": [
    "x=5\n",
    "y=10\n",
    "print(x,y)"
   ]
  },
  {
   "cell_type": "code",
   "execution_count": 24,
   "id": "60d6c25b",
   "metadata": {},
   "outputs": [],
   "source": [
    "x,y=y,x"
   ]
  },
  {
   "cell_type": "code",
   "execution_count": 25,
   "id": "751377d6",
   "metadata": {},
   "outputs": [
    {
     "name": "stdout",
     "output_type": "stream",
     "text": [
      "10 5\n"
     ]
    }
   ],
   "source": [
    "print(x,y)"
   ]
  },
  {
   "cell_type": "code",
   "execution_count": null,
   "id": "65690e33",
   "metadata": {},
   "outputs": [],
   "source": []
  }
 ],
 "metadata": {
  "kernelspec": {
   "display_name": "Python 3 (ipykernel)",
   "language": "python",
   "name": "python3"
  },
  "language_info": {
   "codemirror_mode": {
    "name": "ipython",
    "version": 3
   },
   "file_extension": ".py",
   "mimetype": "text/x-python",
   "name": "python",
   "nbconvert_exporter": "python",
   "pygments_lexer": "ipython3",
   "version": "3.9.12"
  }
 },
 "nbformat": 4,
 "nbformat_minor": 5
}
