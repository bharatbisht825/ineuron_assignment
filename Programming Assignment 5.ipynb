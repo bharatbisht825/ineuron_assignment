{
 "cells": [
  {
   "cell_type": "markdown",
   "id": "3eb1e1ec",
   "metadata": {},
   "source": [
    "# Write a Python Program to Find LCM?\n"
   ]
  },
  {
   "cell_type": "code",
   "execution_count": 13,
   "id": "056760ae",
   "metadata": {},
   "outputs": [
    {
     "name": "stdout",
     "output_type": "stream",
     "text": [
      "Enter the First Number 12\n",
      "Enter the Second Number 5\n",
      "The LCM is 60\n"
     ]
    }
   ],
   "source": [
    "a=int(input(\"Enter the First Number \"))\n",
    "b=int(input(\"Enter the Second Number \"))\n",
    "i=1\n",
    "t=True\n",
    "while(t):\n",
    "    if(i%a==0 and i%b==0):\n",
    "        t=False\n",
    "    i=i+1\n",
    "j=i-1        \n",
    "print(f\"The LCM is {j}\")  "
   ]
  },
  {
   "cell_type": "markdown",
   "id": "d6a55883",
   "metadata": {},
   "source": [
    "# Write a Python Program to Find HCF?\n"
   ]
  },
  {
   "cell_type": "code",
   "execution_count": 16,
   "id": "be5048ec",
   "metadata": {
    "scrolled": true
   },
   "outputs": [
    {
     "name": "stdout",
     "output_type": "stream",
     "text": [
      "Enter the First Number 12\n",
      "Enter the Second Number 5\n",
      "The HCF is 1\n"
     ]
    }
   ],
   "source": [
    "a=int(input(\"Enter the First Number \"))\n",
    "b=int(input(\"Enter the Second Number \"))\n",
    "c=[]\n",
    "g=True\n",
    "i=1\n",
    "t=min(a,b)\n",
    "for i in range(1,t):\n",
    "        if(a%i==0 and b%i==0):\n",
    "            c.append(i)   \n",
    "print(f\"The HCF is {max(c)}\")        "
   ]
  },
  {
   "cell_type": "markdown",
   "id": "411f5651",
   "metadata": {},
   "source": [
    "# Write a Python Program to Convert Decimal to Binary, Octal and Hexadecimal?\n"
   ]
  },
  {
   "cell_type": "code",
   "execution_count": 8,
   "id": "5656e537",
   "metadata": {
    "scrolled": true
   },
   "outputs": [
    {
     "name": "stdout",
     "output_type": "stream",
     "text": [
      "Enter the number12\n",
      "The binary , hexadecimal and octal form are the following respectively ('0b1100', '0xc', '0o14')\n"
     ]
    }
   ],
   "source": [
    "n=int(input(\"Enter the number\"))\n",
    "print(f\"The binary , hexadecimal and octal form are the following respectively {bin(n),hex(n),oct(n)}\")\n",
    "\n",
    "\n",
    "    \n",
    "    \n"
   ]
  },
  {
   "cell_type": "markdown",
   "id": "7b405383",
   "metadata": {},
   "source": [
    "# Write a Python Program To Find ASCII value of a character?\n",
    " "
   ]
  },
  {
   "cell_type": "code",
   "execution_count": 14,
   "id": "1f6f565b",
   "metadata": {},
   "outputs": [
    {
     "name": "stdout",
     "output_type": "stream",
     "text": [
      "enter the characterA\n",
      "The ASCII value is  65\n"
     ]
    }
   ],
   "source": [
    "n=input(\"enter the character\")\n",
    "print(f\"The ASCII value is  {ord(n)}\")"
   ]
  },
  {
   "cell_type": "markdown",
   "id": "cc5b3711",
   "metadata": {},
   "source": [
    "# Write a Python Program to Make a Simple Calculator with 4 basic mathematical operations?"
   ]
  },
  {
   "cell_type": "code",
   "execution_count": 16,
   "id": "5f897773",
   "metadata": {},
   "outputs": [
    {
     "name": "stdout",
     "output_type": "stream",
     "text": [
      "Enter 1 for sum ,2 for multiplication 3 for divide and 4 for subtract1\n",
      "Enter the first number 12\n",
      "Enter the second number 24\n",
      "The sum is 36\n"
     ]
    }
   ],
   "source": [
    "choice=int(input(\"Enter 1 for sum ,2 for multiplication 3 for divide and 4 for subtract\"))\n",
    "def add(a,b):\n",
    "    return a+b\n",
    "def mul(a,b):\n",
    "    return a*b\n",
    "def div(a,b):\n",
    "    return a/b\n",
    "def sub(a,b):\n",
    "    return a-b\n",
    "\n",
    "if choice==1:\n",
    "    a=int(input(\"Enter the first number \"))\n",
    "    b=int(input(\"Enter the second number \"))\n",
    "    c=add(a,b)\n",
    "    print(f\"The sum is {c}\")\n",
    "if choice==2:\n",
    "    a=int(input(\"Enter the first number \"))\n",
    "    b=int(input(\"Enter the second number \"))\n",
    "    c=mul(a,b)\n",
    "    print(f\"The multiplication is {c}\") \n",
    "if choice==3:\n",
    "    a=int(input(\"Enter the dividend \"))   \n",
    "    b=int(input(\"Enter the divisor \"))     \n",
    "    c=div(a,b)\n",
    "    print(f\"The divison is {c}\")\n",
    "if choice==4:\n",
    "    a=int(input(\"Enter the first number \"))\n",
    "    b=int(input(\"Enter the second number \"))\n",
    "    c=sub(a,b)\n",
    "    print(f\"The subraction is {c}\")"
   ]
  },
  {
   "cell_type": "code",
   "execution_count": null,
   "id": "9a23ceba",
   "metadata": {},
   "outputs": [],
   "source": []
  }
 ],
 "metadata": {
  "kernelspec": {
   "display_name": "Python 3 (ipykernel)",
   "language": "python",
   "name": "python3"
  },
  "language_info": {
   "codemirror_mode": {
    "name": "ipython",
    "version": 3
   },
   "file_extension": ".py",
   "mimetype": "text/x-python",
   "name": "python",
   "nbconvert_exporter": "python",
   "pygments_lexer": "ipython3",
   "version": "3.9.12"
  }
 },
 "nbformat": 4,
 "nbformat_minor": 5
}
