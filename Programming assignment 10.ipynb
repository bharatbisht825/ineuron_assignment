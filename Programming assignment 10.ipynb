{
 "cells": [
  {
   "cell_type": "markdown",
   "id": "743e6985",
   "metadata": {},
   "source": [
    "# Write a Python program to find sum of elements in list?\n"
   ]
  },
  {
   "cell_type": "code",
   "execution_count": 1,
   "id": "2ed0aebc",
   "metadata": {},
   "outputs": [
    {
     "name": "stdout",
     "output_type": "stream",
     "text": [
      "the sum is 21\n"
     ]
    }
   ],
   "source": [
    "l=[1,2,3,4,5,6]\n",
    "su=0\n",
    "for i in l:\n",
    "    su=su+i\n",
    "print(f\"the sum is {su}\")"
   ]
  },
  {
   "cell_type": "markdown",
   "id": "c5960831",
   "metadata": {},
   "source": [
    "# Write a Python program to Multiply all numbers in the list?\n"
   ]
  },
  {
   "cell_type": "code",
   "execution_count": 2,
   "id": "1b83c7ba",
   "metadata": {},
   "outputs": [
    {
     "name": "stdout",
     "output_type": "stream",
     "text": [
      "the product is 720\n"
     ]
    }
   ],
   "source": [
    "l=[1,2,3,4,5,6]\n",
    "prod=1\n",
    "for i in l:\n",
    "    prod=prod*i\n",
    "print(f\"the product is {prod}\")"
   ]
  },
  {
   "cell_type": "markdown",
   "id": "ccfd2477",
   "metadata": {},
   "source": [
    "# Write a Python program to find largest number in a list?\n"
   ]
  },
  {
   "cell_type": "code",
   "execution_count": 7,
   "id": "8a471ce8",
   "metadata": {},
   "outputs": [
    {
     "name": "stdout",
     "output_type": "stream",
     "text": [
      "22\n"
     ]
    }
   ],
   "source": [
    "l=[1,22,3,4,5,6]\n",
    "mi=l[0]\n",
    "for i in l:\n",
    "    if(mi<i):\n",
    "        mi=i\n",
    "print(mi)\n",
    "    "
   ]
  },
  {
   "cell_type": "markdown",
   "id": "00c6bf81",
   "metadata": {},
   "source": [
    "# Write a Python program to find smallest number in a list?\n"
   ]
  },
  {
   "cell_type": "code",
   "execution_count": 9,
   "id": "36ad9751",
   "metadata": {},
   "outputs": [
    {
     "name": "stdout",
     "output_type": "stream",
     "text": [
      "4\n"
     ]
    }
   ],
   "source": [
    "l=[8,22,75,4,45,6]\n",
    "mi=l[0]\n",
    "for i in l:\n",
    "    if(mi>i):\n",
    "        mi=i\n",
    "print(mi)\n",
    "    "
   ]
  },
  {
   "cell_type": "markdown",
   "id": "66609cc9",
   "metadata": {},
   "source": [
    " Write a Python program to find second largest number in a list?\n"
   ]
  },
  {
   "cell_type": "code",
   "execution_count": 10,
   "id": "4e6b987e",
   "metadata": {},
   "outputs": [
    {
     "name": "stdout",
     "output_type": "stream",
     "text": [
      "45\n"
     ]
    }
   ],
   "source": [
    "l=[8,22,75,4,45,6]\n",
    "l.sort(reverse=True)\n",
    "print(l[1])"
   ]
  },
  {
   "cell_type": "markdown",
   "id": "46045060",
   "metadata": {},
   "source": [
    " Write a Python program to find N largest elements from a list?\n"
   ]
  },
  {
   "cell_type": "code",
   "execution_count": 12,
   "id": "856ed03b",
   "metadata": {},
   "outputs": [
    {
     "name": "stdout",
     "output_type": "stream",
     "text": [
      "enter the number of items you want 4\n",
      "75\n",
      "45\n",
      "22\n",
      "8\n",
      "6\n"
     ]
    }
   ],
   "source": [
    "l=[8,22,75,4,45,6]\n",
    "l.sort(reverse=True)\n",
    "i=0\n",
    "n=int(input(\"enter the number of items you want \"))\n",
    "if(n>len(l)):\n",
    "    print(\"value too large\")\n",
    "else:\n",
    "    while(i<=n):\n",
    "        print(l[i])\n",
    "        i=i+1\n",
    "        \n",
    "        "
   ]
  },
  {
   "cell_type": "markdown",
   "id": "2d92e9e2",
   "metadata": {},
   "source": [
    "# Write a Python program to print even numbers in a list?\n"
   ]
  },
  {
   "cell_type": "code",
   "execution_count": 13,
   "id": "37bf1943",
   "metadata": {},
   "outputs": [
    {
     "name": "stdout",
     "output_type": "stream",
     "text": [
      "2\n",
      "4\n",
      "6\n"
     ]
    }
   ],
   "source": [
    "l=[1,2,3,4,5,6]\n",
    "for i in l:\n",
    "    if(i%2==0):\n",
    "        print(i)"
   ]
  },
  {
   "cell_type": "markdown",
   "id": "0b31aa98",
   "metadata": {},
   "source": [
    "# Write a Python program to print odd numbers in a List?\n"
   ]
  },
  {
   "cell_type": "code",
   "execution_count": 14,
   "id": "71e9fd90",
   "metadata": {},
   "outputs": [
    {
     "name": "stdout",
     "output_type": "stream",
     "text": [
      "1\n",
      "3\n",
      "5\n"
     ]
    }
   ],
   "source": [
    "l=[1,2,3,4,5,6]\n",
    "for i in l:\n",
    "    if(i%2!=0):\n",
    "        print(i)"
   ]
  },
  {
   "cell_type": "markdown",
   "id": "c356d6fb",
   "metadata": {},
   "source": [
    "# Write a Python program to Remove empty List from List?\n"
   ]
  },
  {
   "cell_type": "code",
   "execution_count": 40,
   "id": "9f8a4a1f",
   "metadata": {},
   "outputs": [],
   "source": [
    "l=[[1234,12],[12356,26,45,89],[],[1,2,3,4,5,6],[56,4,5,1,2]]"
   ]
  },
  {
   "cell_type": "code",
   "execution_count": 41,
   "id": "0adc3c8b",
   "metadata": {},
   "outputs": [
    {
     "name": "stdout",
     "output_type": "stream",
     "text": [
      "the new list is \n",
      "[[1234, 12], [12356, 26, 45, 89], [1, 2, 3, 4, 5, 6], [56, 4, 5, 1, 2]]\n"
     ]
    }
   ],
   "source": [
    "li=[]\n",
    "for i in l:\n",
    "    if(len(i)!=0):\n",
    "        li.append(i)\n",
    "print(\"the list without empty list is \")\n",
    "print(li)"
   ]
  },
  {
   "cell_type": "markdown",
   "id": "727287e7",
   "metadata": {},
   "source": [
    "# Write a Python program to Cloning or Copying a list?\n"
   ]
  },
  {
   "cell_type": "code",
   "execution_count": 42,
   "id": "0ee9f848",
   "metadata": {},
   "outputs": [
    {
     "name": "stdout",
     "output_type": "stream",
     "text": [
      "[1, 2, 3, 4, 5, 6]\n"
     ]
    }
   ],
   "source": [
    "li=[]\n",
    "l=[1,2,3,4,5,6]\n",
    "for i in l:\n",
    "    li.append(i)\n",
    "print(li)\n"
   ]
  },
  {
   "cell_type": "markdown",
   "id": "6ff997e7",
   "metadata": {},
   "source": [
    "# Write a Python program to Count occurrences of an element in a list?"
   ]
  },
  {
   "cell_type": "code",
   "execution_count": 48,
   "id": "79fbf683",
   "metadata": {},
   "outputs": [
    {
     "name": "stdout",
     "output_type": "stream",
     "text": [
      "{1: 1, 2: 2, 3: 1, 4: 2, 5: 1, 6: 1}\n"
     ]
    }
   ],
   "source": [
    "l=[1,2,2,3,4,4,5,6]\n",
    "se=set(l)\n",
    "su=0\n",
    "di={}\n",
    "for i in se:\n",
    "    for j in l:\n",
    "        if(i==j):\n",
    "            su=su+1\n",
    "            di[i]=su\n",
    "    su=0\n",
    "print(di)"
   ]
  },
  {
   "cell_type": "code",
   "execution_count": null,
   "id": "8e1c6b50",
   "metadata": {},
   "outputs": [],
   "source": []
  }
 ],
 "metadata": {
  "kernelspec": {
   "display_name": "Python 3 (ipykernel)",
   "language": "python",
   "name": "python3"
  },
  "language_info": {
   "codemirror_mode": {
    "name": "ipython",
    "version": 3
   },
   "file_extension": ".py",
   "mimetype": "text/x-python",
   "name": "python",
   "nbconvert_exporter": "python",
   "pygments_lexer": "ipython3",
   "version": "3.9.12"
  }
 },
 "nbformat": 4,
 "nbformat_minor": 5
}
