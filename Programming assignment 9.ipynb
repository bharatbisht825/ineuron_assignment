{
 "cells": [
  {
   "cell_type": "markdown",
   "id": "3c5f69fd",
   "metadata": {},
   "source": [
    "1. Write a Python program to check if the given number is a Disarium Number?\n",
    "2. Write a Python program to print all disarium numbers between 1 to 100?\n",
    "3. Write a Python program to check if the given number is Happy Number?\n",
    "4. Write a Python program to print all happy numbers between 1 and 100?\n",
    "5. Write a Python program to determine whether the given number is a Harshad Number?\n",
    "6. Write a Python program to print all pronic numbers between 1 and 100?"
   ]
  },
  {
   "cell_type": "markdown",
   "id": "3f0faaf5",
   "metadata": {},
   "source": [
    "# Write a Python program to check if the given number is a Disarium Number?\n"
   ]
  },
  {
   "cell_type": "code",
   "execution_count": 41,
   "id": "a2688f7a",
   "metadata": {
    "scrolled": false
   },
   "outputs": [
    {
     "name": "stdout",
     "output_type": "stream",
     "text": [
      "enter the number 89\n",
      "its disarium\n"
     ]
    }
   ],
   "source": [
    "j=[]\n",
    "a=int(input(\"enter the number \"))\n",
    "c=a\n",
    "a=str(a)\n",
    "su=0\n",
    "k=[]\n",
    "j=[]\n",
    "for i in a:\n",
    "    j.append(i)\n",
    "for i in j:\n",
    "    k.append(int(i)**int(j.index(i)+1))\n",
    "if (c==sum(k)):\n",
    "    print(\"its disarium\")\n",
    "else:\n",
    "    print(\"its not disarium\")"
   ]
  },
  {
   "cell_type": "markdown",
   "id": "c6664dd4",
   "metadata": {},
   "source": [
    "# Write a Python program to print all disarium numbers between 1 to 100?"
   ]
  },
  {
   "cell_type": "code",
   "execution_count": 43,
   "id": "64312418",
   "metadata": {},
   "outputs": [
    {
     "name": "stdout",
     "output_type": "stream",
     "text": [
      "The disarium numbers are\n",
      "[0, 1, 2, 3, 4, 5, 6, 7, 8, 9, 89]\n"
     ]
    }
   ],
   "source": [
    "holder=[]\n",
    "for e in range(0,100):\n",
    "    a=e\n",
    "    copy=a\n",
    "    a=str(a) ## convert string\n",
    "    k=[]\n",
    "    j=[]\n",
    "    for i in a:\n",
    "        j.append(i) ## convert to list\n",
    "    for i in j:\n",
    "        k.append(int(i)**int(j.index(i)+1))\n",
    "    if (copy==sum(k)):\n",
    "        holder.append(sum(k))\n",
    "print(\"The disarium numbers are\")      \n",
    "print(holder)"
   ]
  },
  {
   "cell_type": "markdown",
   "id": "5c9cca32",
   "metadata": {},
   "source": [
    "# Write a Python program to check if the given number is Happy Number?"
   ]
  },
  {
   "cell_type": "code",
   "execution_count": 39,
   "id": "b2103c14",
   "metadata": {},
   "outputs": [
    {
     "name": "stdout",
     "output_type": "stream",
     "text": [
      "Enter the number 49\n",
      "its a happy number\n"
     ]
    }
   ],
   "source": [
    "def recur(count):\n",
    "      if len(str(count))==1:\n",
    "        return count\n",
    "      else:\n",
    "        a=str(count)\n",
    "        happy=0\n",
    "        for i in a:\n",
    "              happy=happy+(int(i)*int(i))\n",
    "        return recur(happy)\n",
    "a=int(input(\"Enter the number \"))\n",
    "outcome=recur(a)\n",
    "if(outcome==1):\n",
    "    print(\"its a happy number\")\n",
    "else:\n",
    "    print(\"its not a happy number\")\n"
   ]
  },
  {
   "cell_type": "markdown",
   "id": "56bcfa65",
   "metadata": {},
   "source": [
    "# Write a Python program to print all happy numbers between 1 and 100?\n"
   ]
  },
  {
   "cell_type": "code",
   "execution_count": 50,
   "id": "53478072",
   "metadata": {},
   "outputs": [
    {
     "name": "stdout",
     "output_type": "stream",
     "text": [
      "the happy numbers are\n",
      "1\n",
      "10\n",
      "13\n",
      "19\n",
      "23\n",
      "28\n",
      "31\n",
      "32\n",
      "44\n",
      "49\n",
      "68\n",
      "70\n",
      "79\n",
      "82\n",
      "86\n",
      "91\n",
      "94\n",
      "97\n"
     ]
    }
   ],
   "source": [
    "def recur(count):\n",
    "      if len(str(count))==1:\n",
    "        return count\n",
    "      else:\n",
    "        a=str(count)\n",
    "        happy=0\n",
    "        for i in a:\n",
    "              happy=happy+(int(i)*int(i))\n",
    "        return recur(happy)\n",
    "print(\"the happy numbers are\")\n",
    "for i in range(1,100):\n",
    "    a=recur(i)\n",
    "    if(a==1):\n",
    "        print(i)"
   ]
  },
  {
   "cell_type": "markdown",
   "id": "08def549",
   "metadata": {},
   "source": [
    "# Write a Python program to determine whether the given number is a Harshad Number?\n"
   ]
  },
  {
   "cell_type": "code",
   "execution_count": 35,
   "id": "fb2b6cff",
   "metadata": {},
   "outputs": [
    {
     "name": "stdout",
     "output_type": "stream",
     "text": [
      "enter the number 21\n",
      "its harshad number\n"
     ]
    }
   ],
   "source": [
    "a=int(input(\"enter the number \"))\n",
    "copy=a\n",
    "a=str(a)\n",
    "su=0\n",
    "for i in a:\n",
    "    su=su+int(i)\n",
    "if (copy%su==0):\n",
    "    print(\"its harshad number\")\n",
    "else:\n",
    "    print(\"its not harshad number \")\n"
   ]
  },
  {
   "cell_type": "markdown",
   "id": "aca29ca0",
   "metadata": {},
   "source": [
    "# Write a Python program to print all pronic numbers between 1 and 100?"
   ]
  },
  {
   "cell_type": "code",
   "execution_count": 30,
   "id": "e8aa177c",
   "metadata": {},
   "outputs": [
    {
     "name": "stdout",
     "output_type": "stream",
     "text": [
      "1\n",
      "2\n",
      "6\n",
      "12\n",
      "20\n",
      "30\n",
      "42\n",
      "56\n",
      "72\n",
      "90\n"
     ]
    }
   ],
   "source": [
    "for k in range(1,100):\n",
    "    a=k                         # takes the pronic value\n",
    "    l=[]                          # creates an empty list to hold thhe multiple\n",
    "    for i in range(1,a+1):          #  loops through a+1 to find all multiples including a\n",
    "        if(a%i==0):               \n",
    "            l.append(i)           # appends multiple to list(l)\n",
    "    copy1=l                       # holds two copy of list to loop through them to find multiple\n",
    "    copy2=l\n",
    "    l2=[]\n",
    "    thisdict={}                    # create dictinonary to hold the pairs of that values which are consecutive\n",
    "    for i in copy1:            \n",
    "        for j in copy2:\n",
    "            if(i*j==a):\n",
    "                thisdict.update({i:j})            # this creates the multiple values pairs\n",
    "    li=[]                                         # empty list to hold the consecutive multiples\n",
    "    for x, y in thisdict.items():                 # loop through dictionary to hold the pairs of consecutive multiples\n",
    "          if(y-x==1):\n",
    "            li.append(x)\n",
    "            li.append(y)\n",
    "    prod=1                                        # this will hold the product of two pairs\n",
    "    for i in li:\n",
    "        prod=prod*i\n",
    "    if(prod==a):                                   \n",
    "        print(prod)\n"
   ]
  }
 ],
 "metadata": {
  "kernelspec": {
   "display_name": "Python 3 (ipykernel)",
   "language": "python",
   "name": "python3"
  },
  "language_info": {
   "codemirror_mode": {
    "name": "ipython",
    "version": 3
   },
   "file_extension": ".py",
   "mimetype": "text/x-python",
   "name": "python",
   "nbconvert_exporter": "python",
   "pygments_lexer": "ipython3",
   "version": "3.9.12"
  }
 },
 "nbformat": 4,
 "nbformat_minor": 5
}
